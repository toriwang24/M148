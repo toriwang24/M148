{
 "cells": [
  {
   "cell_type": "code",
   "execution_count": null,
   "id": "e1e55756",
   "metadata": {},
   "outputs": [],
   "source": [
    "#imports\n",
    "\n",
    "import tarfile\n",
    "import pandas as pd\n",
    "import pyarrow.parquet as pq\n",
    "import numpy as np"
   ]
  },
  {
   "cell_type": "markdown",
   "id": "36a1fc66",
   "metadata": {},
   "source": [
    "In the cell below, we call all of the data from one day into a single dataset object. I am showing this for two different examples. The first is for one of the days and the other is for all of the days combined together. We see this is very quick. Notice the bigd in the file path"
   ]
  },
  {
   "cell_type": "code",
   "execution_count": null,
   "id": "28cd0208",
   "metadata": {},
   "outputs": [],
   "source": [
    "%%time\n",
    "\n",
    "dataset10 = pq.ParquetDataset(\"bigd/M148/hitdata7days/visitday=10/\")\n",
    "dataset_all = pq.ParquetDataset(\"bigd/M148/hitdata7days\")"
   ]
  },
  {
   "cell_type": "markdown",
   "id": "9b9321c1",
   "metadata": {},
   "source": [
    "If you run these next sections without specifying the columns you want, it will read the whole parquet datset. The second box here would have crashed my computer, but runs fine on Joshua. I think running a similar line for all of the data would also work fine, but it will take a few minutes to pull in all of that data. The combine_chunks() method here is necessary to merge all of the data into one list and not be separated by which parquet file it originated from."
   ]
  },
  {
   "cell_type": "code",
   "execution_count": null,
   "id": "c4e73c61",
   "metadata": {},
   "outputs": [],
   "source": [
    "%%time\n",
    "\n",
    "columns = ['evar23','geocountry']\n",
    "data10 = dataset10.read(columns=columns).combine_chunks()"
   ]
  },
  {
   "cell_type": "code",
   "execution_count": null,
   "id": "a6338990",
   "metadata": {},
   "outputs": [],
   "source": [
    "%%time\n",
    "\n",
    "data_10 = dataset10.read().combine_chunks()"
   ]
  },
  {
   "cell_type": "code",
   "execution_count": null,
   "id": "93a08d4e",
   "metadata": {},
   "outputs": [],
   "source": [
    "%%time\n",
    "\n",
    "columns = ['evar23','geocountry']\n",
    "data_all = dataset_all.read(columns=columns).combine_chunks()"
   ]
  },
  {
   "cell_type": "markdown",
   "id": "3151e942",
   "metadata": {},
   "source": [
    "There may be quick ways to work directly with some of these parquet datasets. If so, I have not figured out how to do so nicely. One thing you can do at this point though is throw these into a Pandas Dataframe or a numpy array for a single column. However, you should not try to throw all of the data into Pandas as this is very slow. Only a small number of features at a time. If you're working with several features, you should grab the features individually as needed and convert those to numpy."
   ]
  },
  {
   "cell_type": "code",
   "execution_count": null,
   "id": "9740da67",
   "metadata": {},
   "outputs": [],
   "source": [
    "%%time\n",
    "\n",
    "data10_pd = data10.to_pandas()\n",
    "data_all_pd = data_all.to_pandas()"
   ]
  },
  {
   "cell_type": "code",
   "execution_count": null,
   "id": "283d0d3f",
   "metadata": {},
   "outputs": [],
   "source": [
    "data10_pd"
   ]
  },
  {
   "cell_type": "code",
   "execution_count": null,
   "id": "3bec6ca8",
   "metadata": {
    "scrolled": true
   },
   "outputs": [],
   "source": [
    "print(\"Number of site visits without a user ID on Day 10\")\n",
    "print(np.sum(data10_pd.evar23.isnull()))"
   ]
  },
  {
   "cell_type": "code",
   "execution_count": null,
   "id": "89267aee",
   "metadata": {},
   "outputs": [],
   "source": [
    "print(\"Number of site visits without a user ID overall\")\n",
    "print(np.sum(data_all_pd.evar23.isnull()))"
   ]
  },
  {
   "cell_type": "code",
   "execution_count": null,
   "id": "4fb18b7e",
   "metadata": {},
   "outputs": [],
   "source": [
    "data_all_pd.geocountry.unique()"
   ]
  }
 ],
 "metadata": {
  "kernelspec": {
   "display_name": "Python 3 (ipykernel)",
   "language": "python",
   "name": "python3"
  },
  "language_info": {
   "codemirror_mode": {
    "name": "ipython",
    "version": 3
   },
   "file_extension": ".py",
   "mimetype": "text/x-python",
   "name": "python",
   "nbconvert_exporter": "python",
   "pygments_lexer": "ipython3",
   "version": "3.9.16"
  }
 },
 "nbformat": 4,
 "nbformat_minor": 5
}
