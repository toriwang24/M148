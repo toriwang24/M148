{
 "cells": [
  {
   "cell_type": "markdown",
   "id": "c27a3ce7",
   "metadata": {},
   "source": [
    "Some more information on the tarfile library can be found here:\n",
    "https://docs.python.org/3/library/tarfile.html\n",
    "\n",
    "Information on using pyarrow to manipulate parquet files\n",
    "https://arrow.apache.org/docs/python/parquet.html#reading-parquet-and-memory-mapping\n",
    "\n",
    "Information on reading parquet files with pandas\n",
    "https://pandas.pydata.org/docs/reference/api/pandas.read_parquet.html"
   ]
  },
  {
   "cell_type": "code",
   "execution_count": 1,
   "id": "4d5e6865",
   "metadata": {},
   "outputs": [],
   "source": [
    "import tarfile\n",
    "import pandas as pd\n",
    "import pyarrow.parquet as pq\n",
    "import numpy as np\n",
    "\n",
    "pd.set_option('display.max_columns', None)"
   ]
  },
  {
   "cell_type": "code",
   "execution_count": 2,
   "id": "e8d8fd17",
   "metadata": {},
   "outputs": [],
   "source": [
    "#Load tar.gz file into Python\n",
    "\n",
    "tar = tarfile.open(\"hitdata7days_0.tar.gz\",\"r:gz\")"
   ]
  },
  {
   "cell_type": "code",
   "execution_count": 3,
   "id": "1f5f1fa7",
   "metadata": {},
   "outputs": [],
   "source": [
    "#Extract all parquet files into computer memory\n",
    "\n",
    "tar.extractall()"
   ]
  },
  {
   "cell_type": "code",
   "execution_count": 21,
   "id": "cfdf440c",
   "metadata": {},
   "outputs": [],
   "source": [
    "tar = tarfile.open(\"hitdata7days_0.tar.gz\",\"r:gz\")"
   ]
  },
  {
   "cell_type": "code",
   "execution_count": 22,
   "id": "f74f3bc0",
   "metadata": {},
   "outputs": [
    {
     "data": {
      "text/plain": [
       "'hitdata7days/visitday=10'"
      ]
     },
     "execution_count": 22,
     "metadata": {},
     "output_type": "execute_result"
    }
   ],
   "source": [
    "#Extracting filename from TarInfo object\n",
    "\n",
    "tn = tar.next()\n",
    "tn.name"
   ]
  },
  {
   "cell_type": "code",
   "execution_count": 23,
   "id": "810375f8",
   "metadata": {},
   "outputs": [
    {
     "name": "stdout",
     "output_type": "stream",
     "text": [
      "False\n",
      "True\n"
     ]
    }
   ],
   "source": [
    "#Check if TarInfo is a file or a directory\n",
    "\n",
    "print(tn.isreg())\n",
    "print(tn.isdir())"
   ]
  },
  {
   "cell_type": "code",
   "execution_count": 24,
   "id": "6f09f2c7",
   "metadata": {
    "scrolled": true
   },
   "outputs": [
    {
     "data": {
      "text/plain": [
       "hitdatahistorymkey: int64\n",
       "filename: string\n",
       "linenumber: int32\n",
       "brandcode: string\n",
       "visitoridhigh: decimal128(20, 0)\n",
       "visitoridlow: decimal128(20, 0)\n",
       "visitnumber: decimal128(10, 0)\n",
       "visitdatetime: timestamp[ns]\n",
       "visitdate: date32[day]\n",
       "visitmonth: int32\n",
       "fiscalyear: int16\n",
       "fiscalmonthnumber: int16\n",
       "fiscalweeknumber: int16\n",
       "hit_time_gmt: decimal128(11, 0)\n",
       "service: string\n",
       "acceptlanguage: string\n",
       "eventlist: string\n",
       "homepage: string\n",
       "ip: string\n",
       "pageevent: decimal128(3, 0)\n",
       "pageeventvar1: string\n",
       "pageeventvar2: string\n",
       "pagetype: string\n",
       "pageurl: string\n",
       "pagename: string\n",
       "productlist: string\n",
       "userserver: string\n",
       "channel: string\n",
       "sitesection: string\n",
       "category: string\n",
       "subcategory: string\n",
       "subcategory2: string\n",
       "pagecategory: string\n",
       "searchterms: string\n",
       "searchresults: string\n",
       "refinementtype: string\n",
       "refinementattribute: string\n",
       "myaccountengagement: string\n",
       "formanalysis: string\n",
       "emailsubscriptionadd: string\n",
       "emailsubscriptionremove: string\n",
       "linklocation: string\n",
       "navigationlinks: string\n",
       "searchtype: string\n",
       "businessunit: string\n",
       "categoryxid: string\n",
       "alternative: string\n",
       "rbtused: string\n",
       "resulttype: string\n",
       "refinementattribute2: string\n",
       "refinementattribute3: string\n",
       "refinementattribute4: string\n",
       "refinementattribute5: string\n",
       "refinementattribute6: string\n",
       "refinementattribute7: string\n",
       "pagetypemerch: string\n",
       "prop29: string\n",
       "flashcreative: string\n",
       "flashcreativeengagement: string\n",
       "pdpengagement: string\n",
       "prop33: string\n",
       "prop34: string\n",
       "prop35: string\n",
       "prop36: string\n",
       "prop37: string\n",
       "prop38: string\n",
       "prop39: string\n",
       "prop40: string\n",
       "prop41: string\n",
       "language: string\n",
       "prop43: string\n",
       "prop44: string\n",
       "prop45: string\n",
       "prop46: string\n",
       "prop47: string\n",
       "prop48: string\n",
       "prop49: string\n",
       "prop50: string\n",
       "ordernumber: string\n",
       "state: string\n",
       "useragent: string\n",
       "zip: string\n",
       "searchengine: decimal128(10, 0)\n",
       "excludehit: decimal128(3, 0)\n",
       "hier1: string\n",
       "hier2: string\n",
       "hier3: string\n",
       "hier4: string\n",
       "hier5: string\n",
       "browser: decimal128(10, 0)\n",
       "postbrowserheight: decimal128(10, 0)\n",
       "postbrowserwidth: decimal128(10, 0)\n",
       "postcookies: string\n",
       "postjavaenabled: string\n",
       "postpersistentcookie: string\n",
       "color: decimal128(10, 0)\n",
       "connectiontype: decimal128(3, 0)\n",
       "country: decimal128(10, 0)\n",
       "domain: string\n",
       "postttimeinfo: string\n",
       "javascript: decimal128(3, 0)\n",
       "language_0001: decimal128(10, 0)\n",
       "os: decimal128(10, 0)\n",
       "plugins: string\n",
       "resolution: decimal128(10, 0)\n",
       "lasthittimegmt: decimal128(11, 0)\n",
       "firsthittimegmt: decimal128(11, 0)\n",
       "visitstarttimegmt: decimal128(11, 0)\n",
       "lastpurchasetimegmt: decimal128(11, 0)\n",
       "lastpurchasenum: decimal128(10, 0)\n",
       "firsthitpagename: string\n",
       "visitstartpagename: string\n",
       "visitsearchengine: decimal128(10, 0)\n",
       "visitpagenum: decimal128(10, 0)\n",
       "prevpage: decimal128(10, 0)\n",
       "geocity: string\n",
       "geocountry: string\n",
       "georegion: string\n",
       "duplicatepurchase: decimal128(3, 0)\n",
       "newvisit: decimal128(3, 0)\n",
       "dailyvisitor: decimal128(3, 0)\n",
       "hourlyvisitor: decimal128(3, 0)\n",
       "monthlyvisitor: decimal128(3, 0)\n",
       "yearlyvisitor: decimal128(3, 0)\n",
       "postcampaign: string\n",
       "sitesection_0001: string\n",
       "category_0001: string\n",
       "subcategory_0001: string\n",
       "subcategory2_0001: string\n",
       "internaltrackingcode: string\n",
       "searchterms_0001: string\n",
       "productfindingmethods: string\n",
       "paymentmethod: string\n",
       "shippingmethod: string\n",
       "ordernumber_0001: string\n",
       "warrantiespresented: string\n",
       "warrantycategory: string\n",
       "crosssoldproduct: string\n",
       "crosssoldinfluence: string\n",
       "crossselltype: string\n",
       "evar16: string\n",
       "promocode: string\n",
       "formanalysis2: string\n",
       "calculatorengagement: string\n",
       "bazaarvoice: string\n",
       "catalogid: string\n",
       "customerconnection: string\n",
       "evar23: string\n",
       "evar24: string\n",
       "evar25: string\n",
       "evar26: string\n",
       "scene7: string\n",
       "evar28: string\n",
       "addonsbuytogether: string\n",
       "addonsymal: string\n",
       "mvtparameters: string\n",
       "evar34: string\n",
       "evar35: string\n",
       "evar36: string\n",
       "evar37: string\n",
       "evar38: string\n",
       "evar39: string\n",
       "language_0002: string\n",
       "freshstartcomplete: string\n",
       "opentobuy: string\n",
       "institutionid: string\n",
       "cdeincreasepayment: string\n",
       "cdedeferredoffer: string\n",
       "cdedspomodel: string\n",
       "cdeemailoptin: string\n",
       "evar48: string\n",
       "paidsearchrawquery: string\n",
       "evar50: string\n",
       "post_evar1: string\n",
       "post_evar2: string\n",
       "post_evar3: string\n",
       "post_evar4: string\n",
       "post_evar5: string\n",
       "post_evar6: string\n",
       "post_evar7: string\n",
       "post_evar8: string\n",
       "post_evar9: string\n",
       "post_evar10: string\n",
       "post_evar11: string\n",
       "post_evar12: string\n",
       "post_evar13: string\n",
       "post_evar14: string\n",
       "post_evar15: string\n",
       "post_evar16: string\n",
       "post_evar17: string\n",
       "post_evar18: string\n",
       "post_evar19: string\n",
       "post_evar20: string\n",
       "post_evar21: string\n",
       "post_evar22: string\n",
       "post_evar23: string\n",
       "post_evar24: string\n",
       "post_evar25: string\n",
       "post_evar26: string\n",
       "post_evar27: string\n",
       "post_evar28: string\n",
       "post_evar29: string\n",
       "post_evar30: string\n",
       "post_evar33: string\n",
       "post_evar34: string\n",
       "post_evar35: string\n",
       "post_evar36: string\n",
       "post_evar37: string\n",
       "post_evar38: string\n",
       "post_evar39: string\n",
       "post_evar40: string\n",
       "post_evar41: string\n",
       "post_evar42: string\n",
       "post_evar43: string\n",
       "post_evar44: string\n",
       "post_evar45: string\n",
       "post_evar46: string\n",
       "post_evar47: string\n",
       "post_evar48: string\n",
       "post_evar49: string\n",
       "post_evar50: string\n",
       "clickaction: string\n",
       "clickactiontype: decimal128(3, 0)\n",
       "clickcontext: string\n",
       "clickcontexttype: decimal128(3, 0)\n",
       "clicksourceid: decimal128(10, 0)\n",
       "clicktag: string\n",
       "visitid: string\n",
       "cookieid: string\n",
       "checkoutthankyouflag: int16\n",
       "evar51: string\n",
       "evar52: string\n",
       "evar53: string\n",
       "evar54: string\n",
       "evar55: string\n",
       "evar56: string\n",
       "evar57: string\n",
       "evar58: string\n",
       "evar59: string\n",
       "evar60: string\n",
       "evar61: string\n",
       "evar62: string\n",
       "evar63: string\n",
       "evar64: string\n",
       "evar65: string\n",
       "evar66: string\n",
       "evar67: string\n",
       "evar68: string\n",
       "evar69: string\n",
       "evar70: string\n",
       "evar71: string\n",
       "evar72: string\n",
       "evar73: string\n",
       "evar74: string\n",
       "evar75: string\n",
       "evar76: string\n",
       "evar77: string\n",
       "evar78: string\n",
       "evar79: string\n",
       "evar80: string\n",
       "evar81: string\n",
       "evar82: string\n",
       "evar83: string\n",
       "evar84: string\n",
       "evar85: string\n",
       "evar86: string\n",
       "evar87: string\n",
       "evar88: string\n",
       "evar89: string\n",
       "evar90: string\n",
       "evar91: string\n",
       "evar92: string\n",
       "evar93: string\n",
       "evar94: string\n",
       "evar95: string\n",
       "evar96: string\n",
       "evar97: string\n",
       "evar98: string\n",
       "evar99: string\n",
       "evar100: string\n",
       "initialloaddate: timestamp[ns]\n",
       "updatedloaddate: timestamp[ns]\n",
       "devicetype: string"
      ]
     },
     "execution_count": 24,
     "metadata": {},
     "output_type": "execute_result"
    }
   ],
   "source": [
    "#Reading info from parquet file\n",
    "tn = tar.next()\n",
    "pq.read_schema(tn.name)"
   ]
  },
  {
   "cell_type": "code",
   "execution_count": 25,
   "id": "5729fdfe",
   "metadata": {},
   "outputs": [],
   "source": [
    "#Read in parquet file as pandas DataFrame\n",
    "\n",
    "df = pd.read_parquet(tn.name)"
   ]
  },
  {
   "cell_type": "markdown",
   "id": "b7f215f6",
   "metadata": {},
   "source": [
    "# Visitor proportion by country"
   ]
  },
  {
   "cell_type": "code",
   "execution_count": 28,
   "id": "f219c3ec",
   "metadata": {},
   "outputs": [
    {
     "name": "stdout",
     "output_type": "stream",
     "text": [
      "CPU times: user 15.5 s, sys: 760 ms, total: 16.2 s\n",
      "Wall time: 16.2 s\n"
     ]
    }
   ],
   "source": [
    "%%time\n",
    "#Collect columns from all parquet files into a pandas DataFrame\n",
    "\n",
    "columns = ['evar23','geocountry']\n",
    "dfs = []\n",
    "for member in tar:\n",
    "    if member.isreg():\n",
    "        df_temp = pd.read_parquet(member.name,columns = columns)\n",
    "        dfs.append(df_temp)\n",
    "\n",
    "df_all = pd.concat(dfs)"
   ]
  },
  {
   "cell_type": "code",
   "execution_count": 29,
   "id": "d68a5162",
   "metadata": {},
   "outputs": [
    {
     "name": "stdout",
     "output_type": "stream",
     "text": [
      "CPU times: user 2.46 s, sys: 422 ms, total: 2.88 s\n",
      "Wall time: 2.74 s\n"
     ]
    }
   ],
   "source": [
    "%%time\n",
    "#Don't do this! Collect all dataframes into list and then concatenate all at once!\n",
    "\n",
    "columns = ['evar23','geocountry']\n",
    "dfs = pd.DataFrame()\n",
    "for member in tar:\n",
    "    if member.isreg():\n",
    "        df_temp = pd.read_parquet(member.name,columns = columns)\n",
    "        dfs = pd.concat([dfs,df_temp])"
   ]
  },
  {
   "cell_type": "code",
   "execution_count": 31,
   "id": "fd401a91",
   "metadata": {},
   "outputs": [
    {
     "name": "stdout",
     "output_type": "stream",
     "text": [
      "Number of site visits without user ID\n",
      "1604973\n"
     ]
    }
   ],
   "source": [
    "print(\"Number of site visits without user ID\")\n",
    "print(np.sum(df_all.evar23.isnull()))"
   ]
  },
  {
   "cell_type": "code",
   "execution_count": 32,
   "id": "ea109e1b",
   "metadata": {},
   "outputs": [
    {
     "name": "stdout",
     "output_type": "stream",
     "text": [
      "Number of site visits total\n",
      "6458609\n"
     ]
    }
   ],
   "source": [
    "print(\"Number of site visits total\")\n",
    "print(len(df_all))"
   ]
  },
  {
   "cell_type": "code",
   "execution_count": 33,
   "id": "221f36f4",
   "metadata": {},
   "outputs": [
    {
     "name": "stdout",
     "output_type": "stream",
     "text": [
      "Proportion of site visits without user ID\n",
      "0.24850134138790567\n"
     ]
    }
   ],
   "source": [
    "print(\"Proportion of site visits without user ID\")\n",
    "print(np.sum(df_all.evar23.isnull())/len(df_all))"
   ]
  },
  {
   "cell_type": "code",
   "execution_count": 34,
   "id": "418f75fe",
   "metadata": {
    "scrolled": true
   },
   "outputs": [
    {
     "name": "stdout",
     "output_type": "stream",
     "text": [
      "Number of distinct user IDs\n",
      "142243\n"
     ]
    }
   ],
   "source": [
    "print(\"Number of distinct user IDs\")\n",
    "print(len(df_all.evar23.unique())-1)"
   ]
  },
  {
   "cell_type": "code",
   "execution_count": 35,
   "id": "00c93e75",
   "metadata": {},
   "outputs": [
    {
     "name": "stdout",
     "output_type": "stream",
     "text": [
      "Number of distinct countries visited from\n",
      "44\n"
     ]
    }
   ],
   "source": [
    "print(\"Number of distinct countries visited from\")\n",
    "print(len(df_all.geocountry.unique())-1)"
   ]
  },
  {
   "cell_type": "code",
   "execution_count": 36,
   "id": "35b8bf8d",
   "metadata": {},
   "outputs": [
    {
     "name": "stdout",
     "output_type": "stream",
     "text": [
      "['usa' 'pri' 'mex' 'vir' 'bra' 'can' 'bhr' 'jam' 'ind' 'phl' 'col' 'nic'\n",
      " 'isr' 'bhs' 'gtm' 'cym' 'dza' 'gum' 'chl' 'sen' 'bmu' 'pak' 'khm' 'tto'\n",
      " 'grd' 'che' 'pan' 'tza' 'sxm' 'guy' 'gha' 'mrt' 'tca' 'brb' 'nor' 'sle'\n",
      " 'jpn' 'gmb' 'bes' 'mnp' 'qat' 'are' 'tun' 'sgp' 'atg']\n"
     ]
    }
   ],
   "source": [
    "#Which countries visited\n",
    "\n",
    "print(df_all.geocountry.unique())"
   ]
  },
  {
   "cell_type": "code",
   "execution_count": 46,
   "id": "85bfc10d",
   "metadata": {},
   "outputs": [],
   "source": [
    "df_subset = df_all.drop_duplicates(subset=['evar23'])\n",
    "df_subset = df_subset.iloc[1: , :]\n",
    "df_subset.value_counts('geocountry') / len(df_subset.index)"
   ]
  },
  {
   "cell_type": "markdown",
   "id": "2bfa8796",
   "metadata": {},
   "source": [
    "# Statistics of types of users"
   ]
  },
  {
   "cell_type": "code",
   "execution_count": 51,
   "id": "b1f4a24e",
   "metadata": {},
   "outputs": [
    {
     "name": "stdout",
     "output_type": "stream",
     "text": [
      "CPU times: user 9.14 s, sys: 5.02 s, total: 14.2 s\n",
      "Wall time: 15 s\n"
     ]
    }
   ],
   "source": [
    "%%time\n",
    "#Collect columns from all parquet files into a pandas DataFrame\n",
    "\n",
    "columns = ['evar23','checkoutthankyouflag', 'newvisit', 'dailyvisitor', 'hourlyvisitor', 'monthlyvisitor', 'yearlyvisitor']\n",
    "dfs = []\n",
    "for member in tar:\n",
    "    if member.isreg():\n",
    "        df_temp = pd.read_parquet(member.name,columns = columns)\n",
    "        dfs.append(df_temp)\n",
    "\n",
    "df_all = pd.concat(dfs)"
   ]
  },
  {
   "cell_type": "code",
   "execution_count": 55,
   "id": "367cf6b5",
   "metadata": {},
   "outputs": [],
   "source": [
    "df_subset = df_all.drop_duplicates(subset=['evar23'])\n",
    "df_subset = df_subset.iloc[1: , :]"
   ]
  },
  {
   "cell_type": "code",
   "execution_count": 61,
   "id": "36e08af5",
   "metadata": {},
   "outputs": [
    {
     "name": "stdout",
     "output_type": "stream",
     "text": [
      "Proportion of unique users that checked out\n",
      "0.005835085030546318\n"
     ]
    }
   ],
   "source": [
    "print(\"Proportion of unique users that checked out\")\n",
    "print(df_subset.value_counts('checkoutthankyouflag')[1] / len(df_subset.index))"
   ]
  },
  {
   "cell_type": "code",
   "execution_count": 63,
   "id": "cfc17de5",
   "metadata": {},
   "outputs": [
    {
     "name": "stdout",
     "output_type": "stream",
     "text": [
      "Proportion of new visitors\n",
      "0.1397327109242634\n",
      "Proportion of hourly visitors\n",
      "0.12440682494041887\n",
      "Proportion of daily visitors\n",
      "0.14440077894870046\n",
      "Proportion of monthly visitors\n",
      "0.01583909225761549\n",
      "Proportion of yearly visitors\n",
      "0.008309723501332227\n"
     ]
    }
   ],
   "source": [
    "print(\"Proportion of new visitors\")\n",
    "print(df_subset.value_counts('newvisit')[1] / len(df_subset.index))\n",
    "\n",
    "print(\"Proportion of hourly visitors\")\n",
    "print(df_subset.value_counts('dailyvisitor')[1] / len(df_subset.index))\n",
    "\n",
    "print(\"Proportion of daily visitors\")\n",
    "print(df_subset.value_counts('hourlyvisitor')[1] / len(df_subset.index))\n",
    "\n",
    "print(\"Proportion of monthly visitors\")\n",
    "print(df_subset.value_counts('monthlyvisitor')[1] / len(df_subset.index))\n",
    "\n",
    "print(\"Proportion of yearly visitors\")\n",
    "print(df_subset.value_counts('yearlyvisitor')[1] / len(df_subset.index))"
   ]
  },
  {
   "cell_type": "code",
   "execution_count": null,
   "id": "41a82e04",
   "metadata": {},
   "outputs": [],
   "source": []
  }
 ],
 "metadata": {
  "kernelspec": {
   "display_name": "Python 3 (ipykernel)",
   "language": "python",
   "name": "python3"
  },
  "language_info": {
   "codemirror_mode": {
    "name": "ipython",
    "version": 3
   },
   "file_extension": ".py",
   "mimetype": "text/x-python",
   "name": "python",
   "nbconvert_exporter": "python",
   "pygments_lexer": "ipython3",
   "version": "3.9.12"
  }
 },
 "nbformat": 4,
 "nbformat_minor": 5
}
