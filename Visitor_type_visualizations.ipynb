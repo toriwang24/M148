{
 "cells": [
  {
   "cell_type": "markdown",
   "id": "c27a3ce7",
   "metadata": {},
   "source": [
    "Some more information on the tarfile library can be found here:\n",
    "https://docs.python.org/3/library/tarfile.html\n",
    "\n",
    "Information on using pyarrow to manipulate parquet files\n",
    "https://arrow.apache.org/docs/python/parquet.html#reading-parquet-and-memory-mapping\n",
    "\n",
    "Information on reading parquet files with pandas\n",
    "https://pandas.pydata.org/docs/reference/api/pandas.read_parquet.html"
   ]
  },
  {
   "cell_type": "code",
   "execution_count": 1,
   "id": "4d5e6865",
   "metadata": {},
   "outputs": [],
   "source": [
    "import tarfile\n",
    "import pandas as pd\n",
    "import pyarrow.parquet as pq\n",
    "import numpy as np\n",
    "import matplotlib.pyplot as plt\n",
    "import seaborn as sea\n",
    "\n",
    "pd.set_option('display.max_columns', None)"
   ]
  },
  {
   "cell_type": "code",
   "execution_count": 2,
   "id": "e8d8fd17",
   "metadata": {},
   "outputs": [],
   "source": [
    "#Load tar.gz file into Python\n",
    "\n",
    "tar = tarfile.open(\"hitdata7days_0.tar.gz\",\"r:gz\")"
   ]
  },
  {
   "cell_type": "code",
   "execution_count": 3,
   "id": "1f5f1fa7",
   "metadata": {},
   "outputs": [],
   "source": [
    "#Extract all parquet files into computer memory\n",
    "\n",
    "#tar.extractall()"
   ]
  },
  {
   "cell_type": "code",
   "execution_count": 4,
   "id": "b7646f9a",
   "metadata": {},
   "outputs": [],
   "source": [
    "tar = tarfile.open(\"hitdata7days_0.tar.gz\",\"r:gz\")"
   ]
  },
  {
   "cell_type": "code",
   "execution_count": 5,
   "id": "0bbd5e0a",
   "metadata": {},
   "outputs": [
    {
     "data": {
      "text/plain": [
       "<TarInfo 'hitdata7days/visitday=10' at 0x7fe68c529ac0>"
      ]
     },
     "execution_count": 5,
     "metadata": {},
     "output_type": "execute_result"
    }
   ],
   "source": [
    "#tar.next() example. But be careful to reinstantiate tar when needed\n",
    "\n",
    "tar.next()"
   ]
  },
  {
   "cell_type": "code",
   "execution_count": 6,
   "id": "f74f3bc0",
   "metadata": {},
   "outputs": [
    {
     "data": {
      "text/plain": [
       "'hitdata7days/visitday=10/0017_part_00.parquet'"
      ]
     },
     "execution_count": 6,
     "metadata": {},
     "output_type": "execute_result"
    }
   ],
   "source": [
    "#Extracting filename from TarInfo object\n",
    "\n",
    "tn = tar.next()\n",
    "tn.name"
   ]
  },
  {
   "cell_type": "code",
   "execution_count": 7,
   "id": "810375f8",
   "metadata": {},
   "outputs": [
    {
     "name": "stdout",
     "output_type": "stream",
     "text": [
      "True\n",
      "False\n"
     ]
    }
   ],
   "source": [
    "#Check if TarInfo is a file or a directory\n",
    "\n",
    "print(tn.isreg())\n",
    "print(tn.isdir())"
   ]
  },
  {
   "cell_type": "code",
   "execution_count": 8,
   "id": "6f09f2c7",
   "metadata": {
    "scrolled": true
   },
   "outputs": [
    {
     "data": {
      "text/plain": [
       "hitdatahistorymkey: int64\n",
       "filename: string\n",
       "linenumber: int32\n",
       "brandcode: string\n",
       "visitoridhigh: decimal128(20, 0)\n",
       "visitoridlow: decimal128(20, 0)\n",
       "visitnumber: decimal128(10, 0)\n",
       "visitdatetime: timestamp[ns]\n",
       "visitdate: date32[day]\n",
       "visitmonth: int32\n",
       "fiscalyear: int16\n",
       "fiscalmonthnumber: int16\n",
       "fiscalweeknumber: int16\n",
       "hit_time_gmt: decimal128(11, 0)\n",
       "service: string\n",
       "acceptlanguage: string\n",
       "eventlist: string\n",
       "homepage: string\n",
       "ip: string\n",
       "pageevent: decimal128(3, 0)\n",
       "pageeventvar1: string\n",
       "pageeventvar2: string\n",
       "pagetype: string\n",
       "pageurl: string\n",
       "pagename: string\n",
       "productlist: string\n",
       "userserver: string\n",
       "channel: string\n",
       "sitesection: string\n",
       "category: string\n",
       "subcategory: string\n",
       "subcategory2: string\n",
       "pagecategory: string\n",
       "searchterms: string\n",
       "searchresults: string\n",
       "refinementtype: string\n",
       "refinementattribute: string\n",
       "myaccountengagement: string\n",
       "formanalysis: string\n",
       "emailsubscriptionadd: string\n",
       "emailsubscriptionremove: string\n",
       "linklocation: string\n",
       "navigationlinks: string\n",
       "searchtype: string\n",
       "businessunit: string\n",
       "categoryxid: string\n",
       "alternative: string\n",
       "rbtused: string\n",
       "resulttype: string\n",
       "refinementattribute2: string\n",
       "refinementattribute3: string\n",
       "refinementattribute4: string\n",
       "refinementattribute5: string\n",
       "refinementattribute6: string\n",
       "refinementattribute7: string\n",
       "pagetypemerch: string\n",
       "prop29: string\n",
       "flashcreative: string\n",
       "flashcreativeengagement: string\n",
       "pdpengagement: string\n",
       "prop33: string\n",
       "prop34: string\n",
       "prop35: string\n",
       "prop36: string\n",
       "prop37: string\n",
       "prop38: string\n",
       "prop39: string\n",
       "prop40: string\n",
       "prop41: string\n",
       "language: string\n",
       "prop43: string\n",
       "prop44: string\n",
       "prop45: string\n",
       "prop46: string\n",
       "prop47: string\n",
       "prop48: string\n",
       "prop49: string\n",
       "prop50: string\n",
       "ordernumber: string\n",
       "state: string\n",
       "useragent: string\n",
       "zip: string\n",
       "searchengine: decimal128(10, 0)\n",
       "excludehit: decimal128(3, 0)\n",
       "hier1: string\n",
       "hier2: string\n",
       "hier3: string\n",
       "hier4: string\n",
       "hier5: string\n",
       "browser: decimal128(10, 0)\n",
       "postbrowserheight: decimal128(10, 0)\n",
       "postbrowserwidth: decimal128(10, 0)\n",
       "postcookies: string\n",
       "postjavaenabled: string\n",
       "postpersistentcookie: string\n",
       "color: decimal128(10, 0)\n",
       "connectiontype: decimal128(3, 0)\n",
       "country: decimal128(10, 0)\n",
       "domain: string\n",
       "postttimeinfo: string\n",
       "javascript: decimal128(3, 0)\n",
       "language_0001: decimal128(10, 0)\n",
       "os: decimal128(10, 0)\n",
       "plugins: string\n",
       "resolution: decimal128(10, 0)\n",
       "lasthittimegmt: decimal128(11, 0)\n",
       "firsthittimegmt: decimal128(11, 0)\n",
       "visitstarttimegmt: decimal128(11, 0)\n",
       "lastpurchasetimegmt: decimal128(11, 0)\n",
       "lastpurchasenum: decimal128(10, 0)\n",
       "firsthitpagename: string\n",
       "visitstartpagename: string\n",
       "visitsearchengine: decimal128(10, 0)\n",
       "visitpagenum: decimal128(10, 0)\n",
       "prevpage: decimal128(10, 0)\n",
       "geocity: string\n",
       "geocountry: string\n",
       "georegion: string\n",
       "duplicatepurchase: decimal128(3, 0)\n",
       "newvisit: decimal128(3, 0)\n",
       "dailyvisitor: decimal128(3, 0)\n",
       "hourlyvisitor: decimal128(3, 0)\n",
       "monthlyvisitor: decimal128(3, 0)\n",
       "yearlyvisitor: decimal128(3, 0)\n",
       "postcampaign: string\n",
       "sitesection_0001: string\n",
       "category_0001: string\n",
       "subcategory_0001: string\n",
       "subcategory2_0001: string\n",
       "internaltrackingcode: string\n",
       "searchterms_0001: string\n",
       "productfindingmethods: string\n",
       "paymentmethod: string\n",
       "shippingmethod: string\n",
       "ordernumber_0001: string\n",
       "warrantiespresented: string\n",
       "warrantycategory: string\n",
       "crosssoldproduct: string\n",
       "crosssoldinfluence: string\n",
       "crossselltype: string\n",
       "evar16: string\n",
       "promocode: string\n",
       "formanalysis2: string\n",
       "calculatorengagement: string\n",
       "bazaarvoice: string\n",
       "catalogid: string\n",
       "customerconnection: string\n",
       "evar23: string\n",
       "evar24: string\n",
       "evar25: string\n",
       "evar26: string\n",
       "scene7: string\n",
       "evar28: string\n",
       "addonsbuytogether: string\n",
       "addonsymal: string\n",
       "mvtparameters: string\n",
       "evar34: string\n",
       "evar35: string\n",
       "evar36: string\n",
       "evar37: string\n",
       "evar38: string\n",
       "evar39: string\n",
       "language_0002: string\n",
       "freshstartcomplete: string\n",
       "opentobuy: string\n",
       "institutionid: string\n",
       "cdeincreasepayment: string\n",
       "cdedeferredoffer: string\n",
       "cdedspomodel: string\n",
       "cdeemailoptin: string\n",
       "evar48: string\n",
       "paidsearchrawquery: string\n",
       "evar50: string\n",
       "post_evar1: string\n",
       "post_evar2: string\n",
       "post_evar3: string\n",
       "post_evar4: string\n",
       "post_evar5: string\n",
       "post_evar6: string\n",
       "post_evar7: string\n",
       "post_evar8: string\n",
       "post_evar9: string\n",
       "post_evar10: string\n",
       "post_evar11: string\n",
       "post_evar12: string\n",
       "post_evar13: string\n",
       "post_evar14: string\n",
       "post_evar15: string\n",
       "post_evar16: string\n",
       "post_evar17: string\n",
       "post_evar18: string\n",
       "post_evar19: string\n",
       "post_evar20: string\n",
       "post_evar21: string\n",
       "post_evar22: string\n",
       "post_evar23: string\n",
       "post_evar24: string\n",
       "post_evar25: string\n",
       "post_evar26: string\n",
       "post_evar27: string\n",
       "post_evar28: string\n",
       "post_evar29: string\n",
       "post_evar30: string\n",
       "post_evar33: string\n",
       "post_evar34: string\n",
       "post_evar35: string\n",
       "post_evar36: string\n",
       "post_evar37: string\n",
       "post_evar38: string\n",
       "post_evar39: string\n",
       "post_evar40: string\n",
       "post_evar41: string\n",
       "post_evar42: string\n",
       "post_evar43: string\n",
       "post_evar44: string\n",
       "post_evar45: string\n",
       "post_evar46: string\n",
       "post_evar47: string\n",
       "post_evar48: string\n",
       "post_evar49: string\n",
       "post_evar50: string\n",
       "clickaction: string\n",
       "clickactiontype: decimal128(3, 0)\n",
       "clickcontext: string\n",
       "clickcontexttype: decimal128(3, 0)\n",
       "clicksourceid: decimal128(10, 0)\n",
       "clicktag: string\n",
       "visitid: string\n",
       "cookieid: string\n",
       "checkoutthankyouflag: int16\n",
       "evar51: string\n",
       "evar52: string\n",
       "evar53: string\n",
       "evar54: string\n",
       "evar55: string\n",
       "evar56: string\n",
       "evar57: string\n",
       "evar58: string\n",
       "evar59: string\n",
       "evar60: string\n",
       "evar61: string\n",
       "evar62: string\n",
       "evar63: string\n",
       "evar64: string\n",
       "evar65: string\n",
       "evar66: string\n",
       "evar67: string\n",
       "evar68: string\n",
       "evar69: string\n",
       "evar70: string\n",
       "evar71: string\n",
       "evar72: string\n",
       "evar73: string\n",
       "evar74: string\n",
       "evar75: string\n",
       "evar76: string\n",
       "evar77: string\n",
       "evar78: string\n",
       "evar79: string\n",
       "evar80: string\n",
       "evar81: string\n",
       "evar82: string\n",
       "evar83: string\n",
       "evar84: string\n",
       "evar85: string\n",
       "evar86: string\n",
       "evar87: string\n",
       "evar88: string\n",
       "evar89: string\n",
       "evar90: string\n",
       "evar91: string\n",
       "evar92: string\n",
       "evar93: string\n",
       "evar94: string\n",
       "evar95: string\n",
       "evar96: string\n",
       "evar97: string\n",
       "evar98: string\n",
       "evar99: string\n",
       "evar100: string\n",
       "initialloaddate: timestamp[ns]\n",
       "updatedloaddate: timestamp[ns]\n",
       "devicetype: string"
      ]
     },
     "execution_count": 8,
     "metadata": {},
     "output_type": "execute_result"
    }
   ],
   "source": [
    "#Reading info from parquet file\n",
    "\n",
    "pq.read_schema(tn.name)"
   ]
  },
  {
   "cell_type": "markdown",
   "id": "e6432502",
   "metadata": {},
   "source": [
    "# Trying to work with Hourly/monthly etc visitors\n",
    "Variables:\n",
    "+ newvisit\n",
    "+ dailyvisitor\n",
    "+ hourlyvisitor\n",
    "+ monthlyvisitor\n",
    "+ yearlyvisitor"
   ]
  },
  {
   "cell_type": "code",
   "execution_count": 9,
   "id": "1304ab20",
   "metadata": {},
   "outputs": [],
   "source": [
    "columns = ['evar23','newvisit', 'dailyvisitor', 'hourlyvisitor', 'monthlyvisitor', 'yearlyvisitor', 'eventlist']\n",
    "dfs = []\n",
    "for member in tar:\n",
    "    if member.isreg():\n",
    "        df_temp = pd.read_parquet(member.name,columns = columns)\n",
    "        dfs.append(df_temp)\n",
    "\n",
    "df_visitor_time_all = pd.concat(dfs)"
   ]
  },
  {
   "cell_type": "code",
   "execution_count": 10,
   "id": "532ceea3",
   "metadata": {},
   "outputs": [],
   "source": [
    "df_visitor_time_all['eventlist'] = df_visitor_time_all['eventlist'].map(str)\n"
   ]
  },
  {
   "cell_type": "code",
   "execution_count": 11,
   "id": "1a103a87",
   "metadata": {},
   "outputs": [
    {
     "data": {
      "text/plain": [
       "6458609"
      ]
     },
     "execution_count": 11,
     "metadata": {},
     "output_type": "execute_result"
    }
   ],
   "source": [
    "len(df_visitor_time_all)"
   ]
  },
  {
   "cell_type": "code",
   "execution_count": 26,
   "id": "2f2d914d",
   "metadata": {},
   "outputs": [],
   "source": [
    "type_visitor_count = (df_visitor_time_all.iloc[:, [1,2,3,4]]).sum()"
   ]
  },
  {
   "cell_type": "code",
   "execution_count": 27,
   "id": "72d02297",
   "metadata": {},
   "outputs": [
    {
     "data": {
      "image/png": "[encoded data removed]",
      "text/plain": [
       "<Figure size 432x288 with 1 Axes>"
      ]
     },
     "metadata": {
      "needs_background": "light"
     },
     "output_type": "display_data"
    }
   ],
   "source": [
    "p = plt.bar(type_visitor_count.index, type_visitor_count.values)"
   ]
  },
  {
   "cell_type": "code",
   "execution_count": 20,
   "id": "25dde29e",
   "metadata": {},
   "outputs": [],
   "source": [
    "checked_out_df = df_visitor_time_all.loc[df_visitor_time_all['eventlist'].str.contains('20456')]\n",
    "#event code for checking out (even if it didn't go through)"
   ]
  },
  {
   "cell_type": "code",
   "execution_count": 22,
   "id": "8451ced9",
   "metadata": {},
   "outputs": [
    {
     "data": {
      "text/html": [
       "<div>\n",
       "<style scoped>\n",
       "    .dataframe tbody tr th:only-of-type {\n",
       "        vertical-align: middle;\n",
       "    }\n",
       "\n",
       "    .dataframe tbody tr th {\n",
       "        vertical-align: top;\n",
       "    }\n",
       "\n",
       "    .dataframe thead th {\n",
       "        text-align: right;\n",
       "    }\n",
       "</style>\n",
       "<table border=\"1\" class=\"dataframe\">\n",
       "  <thead>\n",
       "    <tr style=\"text-align: right;\">\n",
       "      <th></th>\n",
       "      <th>newvisit</th>\n",
       "      <th>dailyvisitor</th>\n",
       "      <th>hourlyvisitor</th>\n",
       "      <th>monthlyvisitor</th>\n",
       "    </tr>\n",
       "  </thead>\n",
       "  <tbody>\n",
       "    <tr>\n",
       "      <th>10</th>\n",
       "      <td>0</td>\n",
       "      <td>0</td>\n",
       "      <td>0</td>\n",
       "      <td>0</td>\n",
       "    </tr>\n",
       "    <tr>\n",
       "      <th>365</th>\n",
       "      <td>0</td>\n",
       "      <td>0</td>\n",
       "      <td>0</td>\n",
       "      <td>0</td>\n",
       "    </tr>\n",
       "    <tr>\n",
       "      <th>447</th>\n",
       "      <td>0</td>\n",
       "      <td>0</td>\n",
       "      <td>0</td>\n",
       "      <td>0</td>\n",
       "    </tr>\n",
       "    <tr>\n",
       "      <th>701</th>\n",
       "      <td>0</td>\n",
       "      <td>0</td>\n",
       "      <td>0</td>\n",
       "      <td>0</td>\n",
       "    </tr>\n",
       "    <tr>\n",
       "      <th>1294</th>\n",
       "      <td>0</td>\n",
       "      <td>0</td>\n",
       "      <td>1</td>\n",
       "      <td>0</td>\n",
       "    </tr>\n",
       "  </tbody>\n",
       "</table>\n",
       "</div>"
      ],
      "text/plain": [
       "     newvisit dailyvisitor hourlyvisitor monthlyvisitor\n",
       "10          0            0             0              0\n",
       "365         0            0             0              0\n",
       "447         0            0             0              0\n",
       "701         0            0             0              0\n",
       "1294        0            0             1              0"
      ]
     },
     "execution_count": 22,
     "metadata": {},
     "output_type": "execute_result"
    }
   ],
   "source": [
    "checked_out_df.iloc[:, [1,2,3,4]].head()"
   ]
  },
  {
   "cell_type": "code",
   "execution_count": 23,
   "id": "36492e1c",
   "metadata": {},
   "outputs": [],
   "source": [
    "checkout_type_visitor_count = (checked_out_df.iloc[:, [1,2,3,4]]).sum()"
   ]
  },
  {
   "cell_type": "code",
   "execution_count": 24,
   "id": "f4c32559",
   "metadata": {},
   "outputs": [
    {
     "data": {
      "image/png": "[encoded data removed]",
      "text/plain": [
       "<Figure size 432x288 with 1 Axes>"
      ]
     },
     "metadata": {
      "needs_background": "light"
     },
     "output_type": "display_data"
    }
   ],
   "source": [
    "p_checkout = plt.bar(checkout_type_visitor_count.index, checkout_type_visitor_count.values)"
   ]
  },
  {
   "cell_type": "code",
   "execution_count": null,
   "id": "022e7b25",
   "metadata": {},
   "outputs": [],
   "source": []
  }
 ],
 "metadata": {
  "kernelspec": {
   "display_name": "Python 3 (ipykernel)",
   "language": "python",
   "name": "python3"
  },
  "language_info": {
   "codemirror_mode": {
    "name": "ipython",
    "version": 3
   },
   "file_extension": ".py",
   "mimetype": "text/x-python",
   "name": "python",
   "nbconvert_exporter": "python",
   "pygments_lexer": "ipython3",
   "version": "3.9.12"
  }
 },
 "nbformat": 4,
 "nbformat_minor": 5
}
